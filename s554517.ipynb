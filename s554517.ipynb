{
 "cells": [
  {
   "cell_type": "markdown",
   "id": "ac7d2721-ab1a-41b9-8375-568136fe9f20",
   "metadata": {},
   "source": [
    "Andrew Fuller"
   ]
  },
  {
   "cell_type": "code",
   "execution_count": null,
   "id": "591b4144-75d7-4e33-939a-a0a795fec5c9",
   "metadata": {},
   "outputs": [],
   "source": [
    "rows = 4"
   ]
  }
 ],
 "metadata": {
  "kernelspec": {
   "display_name": "Python 3 (ipykernel)",
   "language": "python",
   "name": "python3"
  },
  "language_info": {
   "codemirror_mode": {
    "name": "ipython",
    "version": 3
   },
   "file_extension": ".py",
   "mimetype": "text/x-python",
   "name": "python",
   "nbconvert_exporter": "python",
   "pygments_lexer": "ipython3",
   "version": "3.9.12"
  }
 },
 "nbformat": 4,
 "nbformat_minor": 5
}
